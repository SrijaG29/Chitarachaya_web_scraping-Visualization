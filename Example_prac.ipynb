{
  "cells": [
    {
      "cell_type": "markdown",
      "metadata": {
        "id": "view-in-github",
        "colab_type": "text"
      },
      "source": [
        "<a href=\"https://colab.research.google.com/github/SrijaG29/Chitarachaya_web_scraping-Visualization/blob/main/Example_prac.ipynb\" target=\"_parent\"><img src=\"https://colab.research.google.com/assets/colab-badge.svg\" alt=\"Open In Colab\"/></a>"
      ]
    },
    {
      "cell_type": "code",
      "source": [
        "employee_data = \"\"\"EmpID,Name,Age,Department,Salary,Joining_Date\n",
        "1,John Doe,28,Sales,50000,2022-01-15\n",
        "2,Jane Smith,34,HR,62000,2021-03-10\n",
        "3,Bob Johnson,45,Engineering,75000,2019-08-23\n",
        "4,Alice Williams,29,Marketing,58000,2020-07-01\n",
        "5,David Brown,38,Sales,54000,2018-04-15\n",
        "6,Emily Davis,25,Engineering,69000,2023-06-30\n",
        "7,Michael Wilson,41,HR,72000,2017-11-21\n",
        "8,Emma Moore,30,Marketing,61000,2022-09-17\n",
        "9,Liam Taylor,36,Engineering,80000,2020-01-12\n",
        "10,Olivia Martinez,32,Sales,62000,2019-05-05\n",
        "\"\"\""
      ],
      "metadata": {
        "id": "Bs8qp_gG72e6"
      },
      "execution_count": null,
      "outputs": []
    },
    {
      "cell_type": "code",
      "source": [
        "!pip install pyspark"
      ],
      "metadata": {
        "id": "v0uOhFS373LO",
        "outputId": "65fc0985-6309-4383-9761-d7bc7521b135",
        "colab": {
          "base_uri": "https://localhost:8080/"
        }
      },
      "execution_count": 40,
      "outputs": [
        {
          "output_type": "stream",
          "name": "stdout",
          "text": [
            "Requirement already satisfied: pyspark in /usr/local/lib/python3.10/dist-packages (3.5.2)\n",
            "Requirement already satisfied: py4j==0.10.9.7 in /usr/local/lib/python3.10/dist-packages (from pyspark) (0.10.9.7)\n"
          ]
        }
      ]
    },
    {
      "cell_type": "code",
      "source": [
        "from pyspark import SparkConf,SparkContext"
      ],
      "metadata": {
        "id": "_i_-sYbb76u8"
      },
      "execution_count": 41,
      "outputs": []
    },
    {
      "cell_type": "code",
      "source": [
        "c = SparkConf().setAppName(\"Practise pyspark\")\n",
        "sc = SparkContext.getOrCreate(conf = c)"
      ],
      "metadata": {
        "id": "eLiU453P8AB0"
      },
      "execution_count": 42,
      "outputs": []
    },
    {
      "cell_type": "code",
      "source": [
        "with open('practise.txt','w') as f:\n",
        "  f.write(\"EmpID,Name,Age,Department,Salary,Joining_Date \\n\")\n",
        "  f.write(\"1,John Doe,28,Sales,50000,2022-01-15 \\n\")\n",
        "  f.write(\"2,Jane Smith,34,HR,62000,2021-03-10 \\n\")\n",
        "  f.write(\"4,Alice Williams,29,Marketing,58000,2020-07-01 \\n\")\n",
        "  f.write(\"5,David Brown,38,Sales,54000,2018-04-15 \\n\")\n",
        "  f.write(\"6,Emily Davis,25,Engineering,69000,2023-06-30 \\n\")\n",
        "  f.write(\"7,Michael Wilson,41,HR,72000,2017-11-21 \\n\")\n",
        "  f.write(\"8,Emma Moore,30,Marketing,61000,2022-09-17 \\n\")\n",
        "  f.write(\"9,Liam Taylor,36,Engineering,80000,2020-01-12 \\n\")\n",
        "  f.write(\"10,Olivia Martinez,32,Sales,62000,2019-05-05 \\n\")\n"
      ],
      "metadata": {
        "id": "TEr__-Wn8K4g"
      },
      "execution_count": 43,
      "outputs": []
    },
    {
      "cell_type": "code",
      "source": [
        "with open('practise.txt','r') as f:\n",
        "  x = f.read()\n",
        "  print(x)"
      ],
      "metadata": {
        "id": "p1oOew619IPh",
        "outputId": "472e124f-9987-41e5-888f-6f266b537467",
        "colab": {
          "base_uri": "https://localhost:8080/"
        }
      },
      "execution_count": 44,
      "outputs": [
        {
          "output_type": "stream",
          "name": "stdout",
          "text": [
            "EmpID,Name,Age,Department,Salary,Joining_Date \n",
            "1,John Doe,28,Sales,50000,2022-01-15 \n",
            "2,Jane Smith,34,HR,62000,2021-03-10 \n",
            "4,Alice Williams,29,Marketing,58000,2020-07-01 \n",
            "5,David Brown,38,Sales,54000,2018-04-15 \n",
            "6,Emily Davis,25,Engineering,69000,2023-06-30 \n",
            "7,Michael Wilson,41,HR,72000,2017-11-21 \n",
            "8,Emma Moore,30,Marketing,61000,2022-09-17 \n",
            "9,Liam Taylor,36,Engineering,80000,2020-01-12 \n",
            "10,Olivia Martinez,32,Sales,62000,2019-05-05 \n",
            "\n"
          ]
        }
      ]
    },
    {
      "cell_type": "code",
      "source": [
        "from pyspark.sql import SparkSession"
      ],
      "metadata": {
        "id": "2w4ecPZT9REh"
      },
      "execution_count": 45,
      "outputs": []
    },
    {
      "cell_type": "code",
      "source": [
        "p_spark = (\n",
        "    SparkSession\n",
        "    .builder\n",
        "    .appName(\"Practise Pyspark\")\n",
        "    .master(\"local[*]\")\n",
        "    .getOrCreate()\n",
        ")"
      ],
      "metadata": {
        "id": "JEfPTdXa9sWH"
      },
      "execution_count": 46,
      "outputs": []
    },
    {
      "cell_type": "code",
      "source": [
        "df = p_spark.read.format('csv').option(\"header\",True).load('/content/practise.txt')"
      ],
      "metadata": {
        "id": "fdrdusaw-QQy"
      },
      "execution_count": 47,
      "outputs": []
    },
    {
      "cell_type": "code",
      "source": [
        "df.show()"
      ],
      "metadata": {
        "id": "SkgtqzAc-iZg",
        "outputId": "7e717945-562b-4047-f92c-2db300eed766",
        "colab": {
          "base_uri": "https://localhost:8080/"
        }
      },
      "execution_count": 48,
      "outputs": [
        {
          "output_type": "stream",
          "name": "stdout",
          "text": [
            "+-----+---------------+---+-----------+------+-------------+\n",
            "|EmpID|           Name|Age| Department|Salary|Joining_Date |\n",
            "+-----+---------------+---+-----------+------+-------------+\n",
            "|    1|       John Doe| 28|      Sales| 50000|  2022-01-15 |\n",
            "|    2|     Jane Smith| 34|         HR| 62000|  2021-03-10 |\n",
            "|    4| Alice Williams| 29|  Marketing| 58000|  2020-07-01 |\n",
            "|    5|    David Brown| 38|      Sales| 54000|  2018-04-15 |\n",
            "|    6|    Emily Davis| 25|Engineering| 69000|  2023-06-30 |\n",
            "|    7| Michael Wilson| 41|         HR| 72000|  2017-11-21 |\n",
            "|    8|     Emma Moore| 30|  Marketing| 61000|  2022-09-17 |\n",
            "|    9|    Liam Taylor| 36|Engineering| 80000|  2020-01-12 |\n",
            "|   10|Olivia Martinez| 32|      Sales| 62000|  2019-05-05 |\n",
            "+-----+---------------+---+-----------+------+-------------+\n",
            "\n"
          ]
        }
      ]
    },
    {
      "cell_type": "markdown",
      "source": [
        "Filter Employees by Department HR"
      ],
      "metadata": {
        "id": "cGum2SXzDU6F"
      }
    },
    {
      "cell_type": "code",
      "source": [
        "Human_resource = df.filter(df.Department == 'HR')\n",
        "Human_resource.show()"
      ],
      "metadata": {
        "id": "hO4URpMS-qs5",
        "outputId": "40956fdb-1656-4701-b8e0-c81e57a6fab7",
        "colab": {
          "base_uri": "https://localhost:8080/"
        }
      },
      "execution_count": 49,
      "outputs": [
        {
          "output_type": "stream",
          "name": "stdout",
          "text": [
            "+-----+--------------+---+----------+------+-------------+\n",
            "|EmpID|          Name|Age|Department|Salary|Joining_Date |\n",
            "+-----+--------------+---+----------+------+-------------+\n",
            "|    2|    Jane Smith| 34|        HR| 62000|  2021-03-10 |\n",
            "|    7|Michael Wilson| 41|        HR| 72000|  2017-11-21 |\n",
            "+-----+--------------+---+----------+------+-------------+\n",
            "\n"
          ]
        }
      ]
    },
    {
      "cell_type": "code",
      "source": [
        "print(df.dtypes)"
      ],
      "metadata": {
        "id": "Xl-kqt1HEq9U",
        "outputId": "f65dbe49-2eb9-4926-bbe5-e0c380fc841a",
        "colab": {
          "base_uri": "https://localhost:8080/"
        }
      },
      "execution_count": 50,
      "outputs": [
        {
          "output_type": "stream",
          "name": "stdout",
          "text": [
            "[('EmpID', 'string'), ('Name', 'string'), ('Age', 'string'), ('Department', 'string'), ('Salary', 'string'), ('Joining_Date ', 'string')]\n"
          ]
        }
      ]
    },
    {
      "cell_type": "code",
      "source": [
        "from pyspark.sql.functions import count,col\n",
        "x = df.groupBy(\"Department\").agg(count(df.Salary).alias(\"No_of_Employees\"))\n",
        "x.show()"
      ],
      "metadata": {
        "id": "Zi-9pZZnD203",
        "outputId": "fd593944-b5b7-488f-d977-eee41b6a568c",
        "colab": {
          "base_uri": "https://localhost:8080/"
        }
      },
      "execution_count": 65,
      "outputs": [
        {
          "output_type": "stream",
          "name": "stdout",
          "text": [
            "+-----------+---------------+\n",
            "| Department|No_of_Employees|\n",
            "+-----------+---------------+\n",
            "|      Sales|              3|\n",
            "|Engineering|              2|\n",
            "|         HR|              2|\n",
            "|  Marketing|              2|\n",
            "+-----------+---------------+\n",
            "\n"
          ]
        }
      ]
    },
    {
      "cell_type": "code",
      "source": [],
      "metadata": {
        "id": "90q7WKB2OvSk"
      },
      "execution_count": null,
      "outputs": []
    }
  ],
  "metadata": {
    "colab": {
      "name": "Welcome To Colab",
      "provenance": [],
      "include_colab_link": true
    },
    "kernelspec": {
      "display_name": "Python 3",
      "name": "python3"
    }
  },
  "nbformat": 4,
  "nbformat_minor": 0
}